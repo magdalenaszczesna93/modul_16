{
 "cells": [
  {
   "cell_type": "code",
   "execution_count": 9,
   "metadata": {
    "colab": {},
    "colab_type": "code",
    "id": "3fiKn5cckXix"
   },
   "outputs": [],
   "source": [
    "import numpy as np\n",
    "\n",
    "from sklearn.datasets import load_iris\n",
    "from sklearn.model_selection import train_test_split, cross_val_score\n",
    "from sklearn.metrics import classification_report\n",
    "\n",
    "from sklearn.preprocessing import StandardScaler"
   ]
  },
  {
   "cell_type": "code",
   "execution_count": 10,
   "metadata": {
    "colab": {
     "base_uri": "https://localhost:8080/",
     "height": 52
    },
    "colab_type": "code",
    "id": "t5VWYIvBkhV5",
    "outputId": "060e6ce0-93f3-4bf2-e81a-3a1d104814c7"
   },
   "outputs": [
    {
     "name": "stdout",
     "output_type": "stream",
     "text": [
      "CPU times: total: 0 ns\n",
      "Wall time: 3.99 ms\n"
     ]
    }
   ],
   "source": [
    "%%time\n",
    "\n",
    "# ładowanie zbioru danych\n",
    "iris = load_iris()\n",
    "\n",
    "X, y, iris_classes = iris.data, iris.target, iris.target_names\n",
    "\n",
    "# dzielimy dane na treningowe i testowe w stosunku 0.7/0.3\n",
    "X_train, X_test, y_train, y_test = train_test_split(X, y, test_size=0.3, random_state=1)\n",
    "\n",
    "# skalowanie danych treningowych i testowych\n",
    "scaler = StandardScaler()\n",
    "X_train = scaler.fit_transform(X_train)\n",
    "X_test = scaler.transform(X_test)"
   ]
  },
  {
   "cell_type": "code",
   "execution_count": 11,
   "metadata": {
    "colab": {
     "base_uri": "https://localhost:8080/",
     "height": 69
    },
    "colab_type": "code",
    "id": "qqjUYxUEk7ZP",
    "outputId": "6e5aee18-4f5e-4d33-ad54-2a483cfd31d0"
   },
   "outputs": [
    {
     "name": "stdout",
     "output_type": "stream",
     "text": [
      "Pojedynczy wynik:  0.9333333333333333\n",
      "CPU times: total: 0 ns\n",
      "Wall time: 3.99 ms\n"
     ]
    }
   ],
   "source": [
    "%%time\n",
    "\n",
    "# uzycie pojedynczego modelu\n",
    "from sklearn.linear_model import SGDClassifier\n",
    "\n",
    "clf = SGDClassifier()\n",
    "\n",
    "clf.fit(X_train, y_train)\n",
    "score = clf.score(X_test, y_test)\n",
    "print(\"Pojedynczy wynik: \", score)"
   ]
  },
  {
   "cell_type": "code",
   "execution_count": 12,
   "metadata": {
    "colab": {
     "base_uri": "https://localhost:8080/",
     "height": 52
    },
    "colab_type": "code",
    "id": "pxWrjWyhvu-N",
    "outputId": "5f447c56-6076-4ade-c8df-9271aff2a3b0"
   },
   "outputs": [
    {
     "name": "stdout",
     "output_type": "stream",
     "text": [
      "wyniki poszczególnych foldów:  [0.8666666666666667, 0.9333333333333333, 0.9666666666666667, 0.9, 0.9333333333333333]\n",
      "sredni wynik wszystkich foldów:  0.9199999999999999\n"
     ]
    }
   ],
   "source": [
    "from sklearn.model_selection import KFold\n",
    "\n",
    "# stworzenie KFold obiektu z 5 foldami i tasowaniem danych\n",
    "kf = KFold(n_splits=5, shuffle=True, random_state=1)\n",
    "\n",
    "models = []\n",
    "scores = []\n",
    "\n",
    "# iteracja przez poszczególne foldy\n",
    "for fold_nr, (train_idx, test_idx) in enumerate(kf.split(X)):\n",
    "    X_train = X[train_idx]\n",
    "    X_test =X[test_idx]\n",
    "\n",
    "    y_train = y[train_idx]\n",
    "    y_test = y[test_idx]\n",
    "\n",
    "    # skalowanie danych wewnątrz poszczeŋólnych iteracji\n",
    "    X_train = scaler.fit_transform(X_train)\n",
    "    X_test = scaler.transform(X_test)\n",
    "  \n",
    "    # stworzenie klasyfikatora dla poszczególnej iteracji\n",
    "    # wytrenowanie klasyfikatora na danych treningowych\n",
    "    clf = SGDClassifier(random_state=1).fit(X_train, y_train)\n",
    "\n",
    "    # dodawanie klasyfikatora do tablicy klasyfikatorów\n",
    "    models.append(clf)\n",
    "    # dodawanie wyniku dla danych testowych do tablicy\n",
    "    scores.append(clf.score(X_test, y_test))\n",
    "\n",
    "print(\"wyniki poszczególnych foldów: \", scores)\n",
    "print(\"sredni wynik wszystkich foldów: \", np.array(scores).mean())"
   ]
  },
  {
   "cell_type": "code",
   "execution_count": 13,
   "metadata": {
    "colab": {
     "base_uri": "https://localhost:8080/",
     "height": 52
    },
    "colab_type": "code",
    "id": "YpCKjG_bmskp",
    "outputId": "07e2c44d-68a1-4cc2-e967-79b1559e792b"
   },
   "outputs": [
    {
     "name": "stdout",
     "output_type": "stream",
     "text": [
      "wynik kroswalidacji:  [0.83333333 0.93333333 0.8        0.7        0.9       ]\n",
      "średni wynik wszystkich foldów:  0.8333333333333334\n"
     ]
    }
   ],
   "source": [
    "from sklearn.model_selection import cross_val_score, cross_val_predict\n",
    "\n",
    "# stworzenie klasyfikatora\n",
    "clf = SGDClassifier(random_state=1)\n",
    "\n",
    "# uzycie metory cross_val_Score do sprawdzenia działania naszego modelu na róznych podziałach\n",
    "cv_score = cross_val_score(clf, X, y, cv=5)\n",
    "print(\"wynik kroswalidacji: \", cv_score)\n",
    "print(\"średni wynik wszystkich foldów: \", cv_score.mean())"
   ]
  },
  {
   "cell_type": "code",
   "execution_count": 14,
   "metadata": {
    "colab": {
     "base_uri": "https://localhost:8080/",
     "height": 34
    },
    "colab_type": "code",
    "id": "RjwN4N_QlVyO",
    "outputId": "9a504ad5-988c-46ed-8f4c-ab358ae03856"
   },
   "outputs": [
    {
     "name": "stdout",
     "output_type": "stream",
     "text": [
      ">Train: 0=790, 1=10, Test: 0=200, 1=0\n"
     ]
    }
   ],
   "source": [
    "# przykład podziału który będzie złą estymatą dla działania naszego klasyfikatora\n",
    "\n",
    "from sklearn.model_selection import train_test_split\n",
    "from sklearn.datasets import make_classification\n",
    "# generate 2 class dataset\n",
    "X, y = make_classification(n_samples=1000, n_classes=2, weights=[0.99, 0.01], flip_y=0, random_state=1)\n",
    "\n",
    "\n",
    "X_train, X_test, y_train, y_test = train_test_split(X, y, test_size = 0.2, random_state=3)\n",
    "# summarize\n",
    "train_0, train_1 = len(y_train[y_train==0]), len(y_train[y_train==1])\n",
    "test_0, test_1 = len(y_test[y_test==0]), len(y_test[y_test==1])\n",
    "print('>Train: 0=%d, 1=%d, Test: 0=%d, 1=%d' % (train_0, train_1, test_0, test_1))"
   ]
  },
  {
   "cell_type": "code",
   "execution_count": 15,
   "metadata": {
    "colab": {
     "base_uri": "https://localhost:8080/",
     "height": 34
    },
    "colab_type": "code",
    "id": "nWI9X_8qF63j",
    "outputId": "c421de62-0329-4b7a-bf8d-1355fce0a85d"
   },
   "outputs": [
    {
     "name": "stdout",
     "output_type": "stream",
     "text": [
      ">Train: 0=792, 1=8, Test: 0=198, 1=2\n"
     ]
    }
   ],
   "source": [
    "#Przykład podziału za pomocą stratyfikacji\n",
    "X_train, X_test, y_train, y_test = train_test_split(X, y, test_size = 0.2, random_state=3, stratify=y)\n",
    "# summarize\n",
    "train_0, train_1 = len(y_train[y_train==0]), len(y_train[y_train==1])\n",
    "test_0, test_1 = len(y_test[y_test==0]), len(y_test[y_test==1])\n",
    "print('>Train: 0=%d, 1=%d, Test: 0=%d, 1=%d' % (train_0, train_1, test_0, test_1))"
   ]
  },
  {
   "cell_type": "code",
   "execution_count": 16,
   "metadata": {
    "colab": {
     "base_uri": "https://localhost:8080/",
     "height": 52
    },
    "colab_type": "code",
    "id": "-Fugr9bvHfQh",
    "outputId": "ef84e317-6b17-42b7-f46f-0569d36ee712"
   },
   "outputs": [
    {
     "name": "stdout",
     "output_type": "stream",
     "text": [
      "wyniki poszczególnych foldów:  [0.995, 0.985, 0.975, 0.965, 0.99]\n",
      "średni wynik wszystkich foldów:  0.982\n"
     ]
    }
   ],
   "source": [
    "# wcześniejszy przykład z użyciem stratifiedKFold\n",
    "\n",
    "from sklearn.model_selection import StratifiedKFold\n",
    "\n",
    "\n",
    "# stworzenie KFold obiektu z 5 foldami i tasowaniem danych\n",
    "skf = StratifiedKFold(n_splits=5, shuffle=True, random_state=1)\n",
    "\n",
    "models = []\n",
    "scores = []\n",
    "\n",
    "# iteracja przez poszczególne foldy\n",
    "for fold_nr, (train_idx, test_idx) in enumerate(skf.split(X, y)):\n",
    "    X_train = X[train_idx]\n",
    "    X_test =X[test_idx]\n",
    "\n",
    "    y_train = y[train_idx]\n",
    "    y_test = y[test_idx]\n",
    "\n",
    "    # skalowanie danych wewnątrz poszczeŋólnych iteracji\n",
    "    X_train = scaler.fit_transform(X_train)\n",
    "    X_test = scaler.transform(X_test)\n",
    "  \n",
    "    # stworzenie klasyfikatora dla poszczególnej iteracji\n",
    "    # wytrenowanie klasyfikatora na danych treningowych\n",
    "    clf = SGDClassifier(random_state=1).fit(X_train, y_train)\n",
    "\n",
    "    # dodawanie klasyfikatora do tablicy klasyfikatorów\n",
    "    models.append(clf)\n",
    "    # dodawanie wyniku dla danych testowych do tablicy\n",
    "    scores.append(clf.score(X_test, y_test))\n",
    "\n",
    "\n",
    "print(\"wyniki poszczególnych foldów: \", scores)\n",
    "print(\"średni wynik wszystkich foldów: \", np.array(scores).mean())"
   ]
  },
  {
   "cell_type": "code",
   "execution_count": null,
   "metadata": {
    "colab": {},
    "colab_type": "code",
    "id": "0XGZD0yeJOKt"
   },
   "outputs": [],
   "source": []
  }
 ],
 "metadata": {
  "colab": {
   "collapsed_sections": [],
   "name": "Modul_3.ipynb",
   "provenance": []
  },
  "kernelspec": {
   "display_name": "Python 3",
   "language": "python",
   "name": "python3"
  },
  "language_info": {
   "codemirror_mode": {
    "name": "ipython",
    "version": 3
   },
   "file_extension": ".py",
   "mimetype": "text/x-python",
   "name": "python",
   "nbconvert_exporter": "python",
   "pygments_lexer": "ipython3",
   "version": "3.10.6"
  },
  "vscode": {
   "interpreter": {
    "hash": "a491fa038a24a3354ef15b8320e5eed1f98c46448a463343d2ea596d5b86218b"
   }
  }
 },
 "nbformat": 4,
 "nbformat_minor": 1
}
